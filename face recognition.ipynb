{
 "cells": [
  {
   "cell_type": "code",
   "execution_count": 2,
   "metadata": {},
   "outputs": [],
   "source": [
    "import cv2\n",
    "import os"
   ]
  },
  {
   "cell_type": "code",
   "execution_count": 9,
   "metadata": {},
   "outputs": [
    {
     "name": "stderr",
     "output_type": "stream",
     "text": [
      "[ WARN:0@220.063] global ./modules/videoio/src/cap_gstreamer.cpp (1405) open OpenCV | GStreamer warning: Cannot query video position: status=0, value=-1, duration=-1\n",
      "QSocketNotifier: Can only be used with threads started with QThread\n"
     ]
    },
    {
     "name": "stdout",
     "output_type": "stream",
     "text": [
      "Image saved to: /home/talib/Documents/captured_image.jpg\n"
     ]
    }
   ],
   "source": [
    "import cv2\n",
    "import os\n",
    "\n",
    "# Paths\n",
    "haarcascade_path = \"/home/talib/.venv/lib/python3.11/site-packages/cv2/haarcascade_frontalface_default.xml\"\n",
    "output_directory = \"/home/talib/Documents\"\n",
    "\n",
    "# Create the output directory if it doesn't exist\n",
    "os.makedirs(output_directory, exist_ok=True)\n",
    "\n",
    "face_cap = cv2.CascadeClassifier(haarcascade_path)\n",
    "\n",
    "video_cap = cv2.VideoCapture(0)\n",
    "\n",
    "# Variables to track mouse click events\n",
    "capture_image = False\n",
    "\n",
    "# Mouse callback function\n",
    "def mouse_callback(event, x, y, flags, param):\n",
    "    global capture_image\n",
    "    if event == cv2.EVENT_LBUTTONDOWN:\n",
    "        capture_image = True\n",
    "\n",
    "# Set the mouse callback function\n",
    "cv2.namedWindow(\"Live Camera\")\n",
    "cv2.setMouseCallback(\"Live Camera\", mouse_callback)\n",
    "\n",
    "while True:\n",
    "    ret, video = video_cap.read()\n",
    "    gray = cv2.cvtColor(video, cv2.COLOR_BGR2GRAY)\n",
    "\n",
    "    faces = face_cap.detectMultiScale(\n",
    "        gray,\n",
    "        scaleFactor=1.1,\n",
    "        minNeighbors=5,\n",
    "        minSize=(30, 30),\n",
    "        flags=cv2.CASCADE_SCALE_IMAGE\n",
    "    )\n",
    "\n",
    "    for (x, y, w, h) in faces:\n",
    "        cv2.rectangle(video, (x, y), (x + w, y + h), (0, 255, 0), 2)\n",
    "\n",
    "    # Draw the capture button\n",
    "    cv2.rectangle(video, (10, 10), (110, 50), (0, 0, 255), -1)\n",
    "    cv2.putText(video, \"Capture\", (20, 40), cv2.FONT_HERSHEY_SIMPLEX, 1, (255, 255, 255), 2, cv2.LINE_AA)\n",
    "\n",
    "    cv2.imshow(\"Live Camera\", video)\n",
    "\n",
    "    key = cv2.waitKey(10)\n",
    "\n",
    "    if key == ord(\"q\"):\n",
    "        break\n",
    "\n",
    "    # Capture and save image when the button is clicked\n",
    "    if capture_image:\n",
    "        image_name = \"captured_image.jpg\"  # Change the name as needed\n",
    "        image_path = os.path.join(output_directory, image_name)\n",
    "        cv2.imwrite(image_path, video)\n",
    "        print(f\"Image saved to: {image_path}\")\n",
    "        capture_image = False  # Reset the flag\n",
    "\n",
    "video_cap.release()\n",
    "cv2.destroyAllWindows()\n"
   ]
  }
 ],
 "metadata": {
  "kernelspec": {
   "display_name": "Python 3",
   "language": "python",
   "name": "python3"
  },
  "language_info": {
   "codemirror_mode": {
    "name": "ipython",
    "version": 3
   },
   "file_extension": ".py",
   "mimetype": "text/x-python",
   "name": "python",
   "nbconvert_exporter": "python",
   "pygments_lexer": "ipython3",
   "version": "3.11.4"
  }
 },
 "nbformat": 4,
 "nbformat_minor": 2
}
